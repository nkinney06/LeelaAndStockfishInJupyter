{
 "cells": [
  {
   "cell_type": "markdown",
   "metadata": {},
   "source": [
    "# run this first to set up the libraries"
   ]
  },
  {
   "cell_type": "code",
   "execution_count": 1,
   "metadata": {},
   "outputs": [],
   "source": [
    "import os\n",
    "os.chdir('/src/notebooks')\n",
    "import lib.postgres as psql\n",
    "con, cur = psql.connect_to_postgres()\n",
    "from redis import Redis\n",
    "from rq import Queue\n",
    "import lib.playgames as play\n",
    "REDIS = Redis(host='this_redis')\n",
    "Q = Queue(connection=REDIS)"
   ]
  },
  {
   "cell_type": "markdown",
   "metadata": {},
   "source": [
    "# search the /data/books directory for the white opening repetoir of your favorite player. In this example the search term is \"Kas\""
   ]
  },
  {
   "cell_type": "code",
   "execution_count": null,
   "metadata": {
    "scrolled": true
   },
   "outputs": [],
   "source": [
    "players = [x.replace(\".bin\",\"\")[1:] for x in os.listdir(\"/src/notebooks/data/books/\") if x[0] == \"w\"]\n",
    "[ x for x in players if \"Kas\" in x ]"
   ]
  },
  {
   "cell_type": "markdown",
   "metadata": {},
   "source": [
    "# search the /data/books directory for the white opening repetoir of your favorite player. In this example the search term is \"Fis\""
   ]
  },
  {
   "cell_type": "code",
   "execution_count": null,
   "metadata": {},
   "outputs": [],
   "source": [
    "players = [x.replace(\".bin\",\"\")[1:] for x in os.listdir(\"/src/notebooks/data/books/\") if x[0] == \"b\"]\n",
    "[ x for x in players if \"Fis\" in x ]"
   ]
  },
  {
   "cell_type": "markdown",
   "metadata": {},
   "source": [
    "# launch a 100 game minimatch to 8 ply depth again those players, you can check the progress of the jobs at 127.0.0.1:5000 or something similar"
   ]
  },
  {
   "cell_type": "code",
   "execution_count": null,
   "metadata": {},
   "outputs": [],
   "source": [
    "match = Q.enqueue(play.playMatch,'Fischer','Kasparov',100,8,job_timeout=600000)\n",
    "match = Q.enqueue(play.playMatch,'Kasparov','Fischer',100,8,job_timeout=600000)"
   ]
  },
  {
   "cell_type": "markdown",
   "metadata": {},
   "source": [
    "# check the results of the match, positive score means the white repetoire preformed better, negative score means the black repetoire preformed better"
   ]
  },
  {
   "cell_type": "code",
   "execution_count": null,
   "metadata": {},
   "outputs": [],
   "source": [
    "cur.execute(\"select * from matches where dep = 8 order by score desc limit 10\")\n",
    "res = cur.fetchall()\n",
    "for v in res:\n",
    "    print(\"{}\\t{}\\t{}\\t{}\".format(v['white'],v['black'],v['games'],v['score']))"
   ]
  },
  {
   "cell_type": "code",
   "execution_count": null,
   "metadata": {},
   "outputs": [],
   "source": []
  }
 ],
 "metadata": {
  "kernelspec": {
   "display_name": "Python 3",
   "language": "python",
   "name": "python3"
  },
  "language_info": {
   "codemirror_mode": {
    "name": "ipython",
    "version": 3
   },
   "file_extension": ".py",
   "mimetype": "text/x-python",
   "name": "python",
   "nbconvert_exporter": "python",
   "pygments_lexer": "ipython3",
   "version": "3.6.9"
  }
 },
 "nbformat": 4,
 "nbformat_minor": 4
}
