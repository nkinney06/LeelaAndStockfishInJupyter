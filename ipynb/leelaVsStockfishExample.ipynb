{
 "cells": [
  {
   "cell_type": "markdown",
   "metadata": {},
   "source": [
    "# run this first to set up the libraries"
   ]
  },
  {
   "cell_type": "code",
   "execution_count": null,
   "metadata": {},
   "outputs": [],
   "source": [
    "import os\n",
    "os.chdir('/src/notebooks')\n",
    "import lib.postgres as psql\n",
    "con, cur = psql.connect_to_postgres()\n",
    "from redis import Redis\n",
    "from rq import Queue\n",
    "import lib.playgames as play\n",
    "import ipywidgets as widgets\n",
    "import numpy as np\n",
    "REDIS = Redis(host='this_redis')\n",
    "Q = Queue(connection=REDIS)\n",
    "import io\n",
    "import numpy as np\n",
    "import chess\n",
    "import chess.svg\n",
    "import chess.polyglot\n",
    "import ipywidgets as widgets\n",
    "from PIL import Image as PImage\n",
    "\n",
    "def numpyImage(path,dtype = \"float32\"):\n",
    "    orig = PImage.open(path)\n",
    "    originalPage = np.asarray(orig.convert(\"L\"), dtype=np.float32) if dtype == \"float32\" else np.array(orig)\n",
    "    orig.close()\n",
    "    return originalPage\n",
    "\n",
    "def makeImages(game):\n",
    "    pgn = io.StringIO(game)\n",
    "    game = chess.pgn.read_game(pgn)\n",
    "    board = chess.Board()\n",
    "    images = []\n",
    "    zobrist = []\n",
    "    images.append(chess.svg.board(board,size=200,coordinates=False))\n",
    "    zobrist.append(chess.polyglot.zobrist_hash(board))\n",
    "    if str(zobrist[0]) not in [ x.replace(\".png\",\"\") for x in os.listdir(\"/src/notebooks/data/images/\") if \".png\" in x ]:\n",
    "        !inkscape -z -e /src/notebooks/data/images/{zobrist[0]}.png -w 256 -h 256 /src/notebooks/data/images/{zobrist[0]}.svg 2>/dev/null 1>/dev/null\n",
    "    for move in game.mainline_moves():\n",
    "        board.push(move)\n",
    "        images.append(chess.svg.board(board,size=200,coordinates=False))\n",
    "        zobrist.append(chess.polyglot.zobrist_hash(board))\n",
    "    for i,image in enumerate(images):\n",
    "        f = open(\"/src/notebooks/data/images/\"+str(zobrist[i])+\".svg\", 'w')\n",
    "        f.write(image)\n",
    "        if str(zobrist[i]) not in [ x.replace(\".png\",\"\") for x in os.listdir(\"/src/notebooks/data/images/\") if \".png\" in x ]:\n",
    "            !inkscape -z -e /src/notebooks/data/images/{zobrist[i]}.png -w 256 -h 256 /src/notebooks/data/images/{zobrist[i]}.svg 2>/dev/null 1>/dev/null\n",
    "        f.close()\n",
    "    X = np.zeros((256,256,len(zobrist)))\n",
    "    for i,z in enumerate(zobrist):\n",
    "        X[:,:,i] = numpyImage(\"/src/notebooks/data/images/\"+str(zobrist[i])+\".png\")\n",
    "    return X"
   ]
  },
  {
   "cell_type": "markdown",
   "metadata": {},
   "source": [
    "# suppose you want to see leela and stockfish play the King's gambit, just put the opening moves in here and run the playGame function..."
   ]
  },
  {
   "cell_type": "code",
   "execution_count": null,
   "metadata": {},
   "outputs": [],
   "source": [
    "line = \"1. e4 e5 2. f4 exf4 3. Bc4\"\n",
    "gameOne = Q.enqueue(play.playGame,10,line,\"leela\",\"stockfish\",job_timeout=600000)\n",
    "gameTwo = Q.enqueue(play.playGame,10,line,\"stockfish\",\"leela\",job_timeout=600000)"
   ]
  },
  {
   "cell_type": "markdown",
   "metadata": {},
   "source": [
    "# or the Danish gambit"
   ]
  },
  {
   "cell_type": "code",
   "execution_count": null,
   "metadata": {},
   "outputs": [],
   "source": [
    "line = \"1. e4 e5 2. d4 exd4 3. c3 dxc3 4. Bc4 cxb2 5. Bxb2\"\n",
    "gameOne = Q.enqueue(play.playGame,10,line,\"leela\",\"stockfish\",job_timeout=600000)\n",
    "gameTwo = Q.enqueue(play.playGame,10,line,\"stockfish\",\"leela\",job_timeout=600000)"
   ]
  },
  {
   "cell_type": "markdown",
   "metadata": {},
   "source": [
    "# After you launch the games you can go to 127.0.0.1:5000 or something similar to see job running. (the background jobs seems to be working now)"
   ]
  },
  {
   "cell_type": "code",
   "execution_count": null,
   "metadata": {},
   "outputs": [],
   "source": [
    "cur.execute(\"select * from games order by game desc limit 8\")\n",
    "games = cur.fetchall()\n",
    "for i,game in enumerate(games):\n",
    "    print(i,game)\n",
    "    print(\"\\n\")"
   ]
  },
  {
   "cell_type": "markdown",
   "metadata": {},
   "source": [
    "# added a really sloppy inline game viewer. Its a work in progress for sure. Right now it saves png files to the data directory and reads them in with numpy. This process is too slow to be practical but it's a start."
   ]
  },
  {
   "cell_type": "code",
   "execution_count": null,
   "metadata": {
    "scrolled": false
   },
   "outputs": [],
   "source": [
    "game_I_want_to_View = 5 # pick from on of the rows in the previous cell\n",
    "%matplotlib inline\n",
    "%matplotlib notebook\n",
    "import ipywidgets as widgets\n",
    "import matplotlib.pyplot as plt\n",
    "import lib.pieceapp as app\n",
    "moves = games[game_I_want_to_View][6]\n",
    "white = games[game_I_want_to_View][1]\n",
    "black = games[game_I_want_to_View][2]\n",
    "bs = app.IndexTracker(makeImages(moves),white,black)"
   ]
  },
  {
   "cell_type": "code",
   "execution_count": null,
   "metadata": {},
   "outputs": [],
   "source": []
  }
 ],
 "metadata": {
  "kernelspec": {
   "display_name": "Python 3",
   "language": "python",
   "name": "python3"
  },
  "language_info": {
   "codemirror_mode": {
    "name": "ipython",
    "version": 3
   },
   "file_extension": ".py",
   "mimetype": "text/x-python",
   "name": "python",
   "nbconvert_exporter": "python",
   "pygments_lexer": "ipython3",
   "version": "3.6.9"
  }
 },
 "nbformat": 4,
 "nbformat_minor": 4
}
