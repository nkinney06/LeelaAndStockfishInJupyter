{
 "cells": [
  {
   "cell_type": "markdown",
   "metadata": {},
   "source": [
    "# run this first to set up the libraries"
   ]
  },
  {
   "cell_type": "code",
   "execution_count": 9,
   "metadata": {},
   "outputs": [],
   "source": [
    "import os\n",
    "os.chdir('/src/notebooks')\n",
    "import lib.postgres as psql\n",
    "con, cur = psql.connect_to_postgres()\n",
    "from redis import Redis\n",
    "from rq import Queue\n",
    "import lib.playgames as play\n",
    "REDIS = Redis(host='this_redis')\n",
    "Q = Queue(connection=REDIS)\n",
    "\n",
    "##############################################################################################\n",
    "# this function was working as a redis job but something broke, ill try to fix it in an update\n",
    "##############################################################################################\n",
    "import chess\n",
    "import chess.engine\n",
    "import chess.svg\n",
    "import chess.pgn\n",
    "import chess.polyglot\n",
    "import lib.postgres as psql\n",
    "import io\n",
    "import os\n",
    "def playGame( whiteName,blackName,timePerMove,line ):\n",
    "    os.chdir('/src/notebooks')\n",
    "    if whiteName == 'leela':\n",
    "        white = chess.engine.SimpleEngine.popen_uci(\"/lczero/lc0\")\n",
    "        black = chess.engine.SimpleEngine.popen_uci(\"/root/Stockfish/src/stockfish\")\n",
    "    else:\n",
    "        black = chess.engine.SimpleEngine.popen_uci(\"/lczero/lc0\")\n",
    "        white = chess.engine.SimpleEngine.popen_uci(\"/root/Stockfish/src/stockfish\")\n",
    "    board = chess.Board()\n",
    "    openingGame = chess.pgn.read_game(io.StringIO(line))\n",
    "    game = chess.pgn.Game()\n",
    "\n",
    "    for move in openingGame.mainline_moves():\n",
    "        if ((board.fullmove_number == 1) & board.turn):\n",
    "            node = game.add_variation(chess.Move.from_uci(str(move)))\n",
    "        else:\n",
    "            node = node.add_variation(chess.Move.from_uci(str(move)))\n",
    "        board.push(chess.Move.from_uci(str(move)))\n",
    "        \n",
    "    while not board.is_game_over(claim_draw=True):\n",
    "        if board.turn:\n",
    "            result = white.play(board, chess.engine.Limit(time=timePerMove))\n",
    "        else:\n",
    "            result = black.play(board, chess.engine.Limit(time=timePerMove))\n",
    "\n",
    "        node = node.add_variation(result.move)\n",
    "        board.push(result.move)\n",
    "\n",
    "    game.headers[\"Result\"] = board.result()\n",
    "    game.headers[\"White\"] = whiteName\n",
    "    game.headers[\"Black\"] = blackName\n",
    "    psql.insert_game(game,timePerMove)"
   ]
  },
  {
   "cell_type": "markdown",
   "metadata": {},
   "source": [
    "# suppose you want to see leela and stockfish play the King's gambit, just put the opening moves in here and run the playGame function..."
   ]
  },
  {
   "cell_type": "code",
   "execution_count": 10,
   "metadata": {},
   "outputs": [
    {
     "name": "stderr",
     "output_type": "stream",
     "text": [
      "<UciProtocol (pid=846)>: stderr >>        _\n",
      "<UciProtocol (pid=846)>: stderr >> |   _ | |\n",
      "<UciProtocol (pid=846)>: stderr >> |_ |_ |_| v0.21.5-rc1 built May  2 2021\n",
      "<UciProtocol (pid=846)>: stderr >> Found pb network file: /lczero/J20-460\n",
      "<UciProtocol (pid=846)>: stderr >> Creating backend [cudnn]...\n",
      "<UciProtocol (pid=846)>: stderr >> GPU: Tesla V100-PCIE-32GB\n",
      "<UciProtocol (pid=846)>: stderr >> GPU memory: 31.7485 Gb\n",
      "<UciProtocol (pid=846)>: stderr >> GPU clock frequency: 1380 MHz\n",
      "<UciProtocol (pid=846)>: stderr >> GPU compute capability: 7.0\n",
      "<UciProtocol (pid=846)>: stderr >> CUDA Runtime version: 10.0.0\n",
      "<UciProtocol (pid=846)>: stderr >> Cudnn version: 7.6.5\n",
      "<UciProtocol (pid=846)>: stderr >> Latest version of CUDA supported by the driver: 10.2.0\n",
      "<UciProtocol (pid=846)>: stderr >> WARNING: you will probably get better performance from the cudnn-fp16 backend.\n"
     ]
    }
   ],
   "source": [
    "line = \"1. e4 e5 2. d4\"\n",
    "playGame(\"leela\",\"stockfish\",1,line)"
   ]
  },
  {
   "cell_type": "markdown",
   "metadata": {},
   "source": [
    "# After you launch the games you can go to 127.0.0.1:5000 or something similar to see job running. (having trouble all of a sudden running the games as background jobs, ill look into the issue and commit when I fix it)"
   ]
  },
  {
   "cell_type": "code",
   "execution_count": 11,
   "metadata": {},
   "outputs": [
    {
     "name": "stdout",
     "output_type": "stream",
     "text": [
      "[1, 'leela', 'stockfish', '*', 1, datetime.datetime(2021, 5, 2, 17, 34, 20, 276156), '1. e4 e5 2. d4 exd4 3. Nf3 Bb4+ 4. Bd2 Bxd2+ 5. Qxd2 c5 6. c3 Nf6 7. e5 Ne4 8. Qf4 d5 9. exd6 O-O 10. Qxe4 Re8 11. Ne5 Nc6 12. cxd4 cxd4 13. f4 Nxe5 14. fxe5 Qg5 15. Qxd4 Rxe5+ 16. Kf2 Rd5 17. Qc3 Bd7 18. Na3 Rd2+ 19. Be2 Rxe2+ 20. Kxe2 Qxg2+ 21. Kd3 Bf5+ 22. Kc4 Rc8+ 23. Kb3 Rxc3+ 24. bxc3 Qd5+ 25. Kb2 Qd2+ 26. Kb3 Qd5+ 27. Kb2 Qd2+ 28. Kb3']\n",
      "\n",
      "\n"
     ]
    }
   ],
   "source": [
    "cur.execute(\"select * from games order by game desc limit 8\")\n",
    "games = cur.fetchall()\n",
    "for game in games:\n",
    "    print(game)\n",
    "    print(\"\\n\")"
   ]
  },
  {
   "cell_type": "code",
   "execution_count": null,
   "metadata": {},
   "outputs": [],
   "source": []
  }
 ],
 "metadata": {
  "kernelspec": {
   "display_name": "Python 3",
   "language": "python",
   "name": "python3"
  },
  "language_info": {
   "codemirror_mode": {
    "name": "ipython",
    "version": 3
   },
   "file_extension": ".py",
   "mimetype": "text/x-python",
   "name": "python",
   "nbconvert_exporter": "python",
   "pygments_lexer": "ipython3",
   "version": "3.6.9"
  }
 },
 "nbformat": 4,
 "nbformat_minor": 4
}
