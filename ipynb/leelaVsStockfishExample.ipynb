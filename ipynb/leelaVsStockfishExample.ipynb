{
 "cells": [
  {
   "cell_type": "markdown",
   "metadata": {},
   "source": [
    "# run this first to set up the libraries"
   ]
  },
  {
   "cell_type": "code",
   "execution_count": 7,
   "metadata": {},
   "outputs": [],
   "source": [
    "import os\n",
    "os.chdir('/src/notebooks')\n",
    "import lib.postgres as psql\n",
    "con, cur = psql.connect_to_postgres()\n",
    "from redis import Redis\n",
    "from rq import Queue\n",
    "import lib.playgames as play\n",
    "REDIS = Redis(host='this_redis')\n",
    "Q = Queue(connection=REDIS)\n",
    "import ipywidgets as widgets"
   ]
  },
  {
   "cell_type": "markdown",
   "metadata": {},
   "source": [
    "# suppose you want to see leela and stockfish play the King's gambit, just put the opening moves in here and run the playGame function..."
   ]
  },
  {
   "cell_type": "code",
   "execution_count": 2,
   "metadata": {},
   "outputs": [],
   "source": [
    "line = \"1. e4 e5 2. f4 exf4 3. Bc4\"\n",
    "gameOne = Q.enqueue(play.playGame,10,line,\"leela\",\"stockfish\",job_timeout=600000)\n",
    "gameTwo = Q.enqueue(play.playGame,10,line,\"stockfish\",\"leela\",job_timeout=600000)"
   ]
  },
  {
   "cell_type": "markdown",
   "metadata": {},
   "source": [
    "# or the Danish gambit"
   ]
  },
  {
   "cell_type": "code",
   "execution_count": 3,
   "metadata": {},
   "outputs": [],
   "source": [
    "line = \"1. e4 e5 2. d4 exd4 3. c3 dxc3 4. Bc4 cxb2 5. Bxb2\"\n",
    "gameOne = Q.enqueue(play.playGame,10,line,\"leela\",\"stockfish\",job_timeout=600000)\n",
    "gameTwo = Q.enqueue(play.playGame,10,line,\"stockfish\",\"leela\",job_timeout=600000)"
   ]
  },
  {
   "cell_type": "markdown",
   "metadata": {},
   "source": [
    "# After you launch the games you can go to 127.0.0.1:5000 or something similar to see job running. (the background jobs seems to be working now)"
   ]
  },
  {
   "cell_type": "code",
   "execution_count": 10,
   "metadata": {},
   "outputs": [
    {
     "name": "stdout",
     "output_type": "stream",
     "text": [
      "[6, 'leela', 'stockfish', '*', 10, datetime.datetime(2021, 5, 4, 0, 44, 21, 261216), '1. e4 e5 2. d4 exd4 3. c3 dxc3 4. Bc4 cxb2 5. Bxb2 Bb4+ 6. Nc3 Nf6 7. Qb3 Bxc3+ 8. Qxc3 O-O 9. Ne2 d6 10. O-O Re8 11. Rad1 Nc6 12. Ng3 Be6 13. f4 Bxc4 14. Qxc4 Re6 15. e5 Ne8 16. Qb3 Qh4 17. exd6 cxd6 18. f5 Rh6 19. h3 Qd8 20. Qxb7 Rb8 21. Qxc6 Rxb2 22. Rfe1 Rb8 23. Qa4 a6 24. Rd3 Qb6+ 25. Kh2 Qb5 26. Qc2 Rd8 27. Qd2 Nf6 28. Rb3 Qd7 29. Qb4 Qc7 30. Qf4 Qc5 31. a4 d5 32. Rb7 Rf8 33. Rd1 Qc8 34. Rb4 Re8 35. Rc1 Qd8 36. Rc2 Nd7 37. Rd4 Nf6 38. Rb4 Rf8 39. Re2 Nd7 40. Rd4 Nf6 41. Rb4 Ne4 42. Nxe4 dxe4 43. Rexe4 Rf6 44. Red4 Qc8 45. Rd5 Re8 46. a5 h6 47. Rb6 Rc6 48. f6 g6 49. Rb4 Rce6 50. Rh5 Rxf6 51. Qxf6 Qc7+ 52. Qf4 Qxf4+ 53. Rxf4 gxh5 54. Rf6 Re6 55. Rf5 h4 56. Rh5 Kg7 57. Rxh4 Re5 58. Ra4 h5 59. Kg3 Kf6 60. Kh4 Kg6 61. g4 Rg5 62. gxh5+ Rxh5+ 63. Kg3 Rb5 64. h4 f6 65. Kh3 Kf5 66. Kg3 Re5 67. Kh3 Rb5 68. Ra3 Ke6 69. Kg4 Kf7 70. Ra4 Re5 71. Kg3 Rd5 72. Kg4 Kg6 73. Kg3 Rb5 74. Kg4 Rh5 75. Kg3']\n",
      "\n",
      "\n",
      "[5, 'leela', 'stockfish', '0-1', 10, datetime.datetime(2021, 5, 4, 0, 36, 31, 850731), '1. e4 e5 2. f4 exf4 3. Bc4 Qh4+ 4. Kf1 d6 5. Nf3 Qf6 6. d4 Be6 7. Qe2 g5 8. h3 h6 9. Nc3 Bg7 10. Bd2 Bxc4 11. Qxc4 Qd8 12. h4 g4 13. Nh2 Nc6 14. Nxg4 Qd7 15. d5 Ne5 16. Nxe5 Bxe5 17. Nb5 Rc8 18. Qd3 Nf6 19. Nd4 Qg4 20. Nf5 Rg8 21. Rg1 Rg6 22. Re1 Nh5 23. Qf3 Kd7 24. c3 Ng3+ 25. Nxg3 Qxg3 26. h5 Rg4 27. Qxg3 Rxg3 28. Re2 Rcg8 29. Be1 Rd3 30. Rd2 Rgg3 31. Rh1 Ke7 32. Rh4 b5 33. Bxg3 Rxd2 34. Bxf4 Rxb2 35. Bxh6 Rxa2 36. Bg5+ Kf8 37. Rg4 Bxc3 38. h6 Be5 39. Bd8 Ra1+ 40. Kf2 Rh1 41. Bh4 a5 42. h7 Bg7 43. e5 dxe5 44. Bd8 f5 45. Rg6 b4 46. Bxc7 e4 47. Ke2 b3 48. d6 Re1+ 49. Kxe1 b2 50. d7 b1=Q+ 51. Kf2 Qc2+ 52. Kg1 Qxc7 53. Rxg7 Kxg7 54. h8=R Kxh8 55. Kh1 e3 56. d8=B Qxd8 57. g3 e2 58. Kg1 Qd2 59. Kf2 e1=R+ 60. Kf3 Rf1#']\n",
      "\n",
      "\n",
      "[4, 'stockfish', 'leela', '*', 10, datetime.datetime(2021, 5, 4, 0, 26, 13, 389637), '1. e4 e5 2. f4 exf4 3. Bc4 Nc6 4. d4 Qh4+ 5. Kf1 d6 6. Nf3 Bg4 7. Nxh4 Bxd1 8. Nc3 Bxc2 9. Bxf4 Nf6 10. Rc1 Nb4 11. Bd2 Bd3+ 12. Bxd3 Nxd3 13. Rb1 c5 14. Ke2 cxd4 15. Kxd3 dxc3 16. Bxc3 Nd7 17. Nf5 f6 18. Rbd1 g6 19. Ne3 Be7 20. Rhf1 Rf8 21. Kc2 Rc8 22. g4 Nc5 23. Rd4 Ne6 24. Rdd1 Rc6 25. Kb1 Nc5 26. Rd4 Bd8 27. Rfd1 Rf7 28. Nd5 a6 29. Nb4 Rc8 30. Nd5 Rc6 31. Nb4 Rc8 32. Nd5']\n",
      "\n",
      "\n",
      "[3, 'leela', 'stockfish', '*', 10, datetime.datetime(2021, 5, 4, 0, 6, 20, 198808), '1. d4 d5 2. c4 c6 3. Nc3 Nf6 4. cxd5 cxd5 5. Bf4 Nc6 6. e3 Bf5 7. Qb3 Na5 8. Qa4+ Bd7 9. Qc2 e6 10. Nf3 Rc8 11. Bd3 h6 12. O-O Bb4 13. Rfc1 O-O 14. h3 Qe7 15. Ne5 Rfd8 16. Bg3 a6 17. Bh4 g5 18. Bg3 Bb5 19. Bxb5 axb5 20. Qd3 Bxc3 21. Rxc3 Nc4 22. Rc2 Ne4 23. Bh2 f6 24. Nf3 h5 25. Qe2 h4 26. Rac1 Qe8 27. Ne1 Ncd6 28. Rc7 Rxc7 29. Rxc7 Rd7 30. Rc1 Rd8 31. Rc7 Rd7 32. Bxd6 Nxd6 33. Rc1 Rd8 34. Rc7 Rd7 35. Qc2 Kg7 36. Nd3 Nc4 37. Rc5 Re7 38. Qb3 Qh5 39. Qc2 Qe8 40. Nb4 Nd6 41. Qc1 Qg6 42. Rc3 Kh6 43. Nd3 Ne4 44. Rc2 Nd6 45. Rc3 Ne4 46. Rc2 Nd6']\n",
      "\n",
      "\n",
      "[2, 'leela', 'stockfish', '*', 1, datetime.datetime(2021, 5, 3, 3, 19, 6, 891987), '1. c4 e5']\n",
      "\n",
      "\n",
      "[1, 'leela', 'stockfish', '*', 1, datetime.datetime(2021, 5, 2, 17, 34, 20, 276156), '1. e4 e5 2. d4 exd4 3. Nf3 Bb4+ 4. Bd2 Bxd2+ 5. Qxd2 c5 6. c3 Nf6 7. e5 Ne4 8. Qf4 d5 9. exd6 O-O 10. Qxe4 Re8 11. Ne5 Nc6 12. cxd4 cxd4 13. f4 Nxe5 14. fxe5 Qg5 15. Qxd4 Rxe5+ 16. Kf2 Rd5 17. Qc3 Bd7 18. Na3 Rd2+ 19. Be2 Rxe2+ 20. Kxe2 Qxg2+ 21. Kd3 Bf5+ 22. Kc4 Rc8+ 23. Kb3 Rxc3+ 24. bxc3 Qd5+ 25. Kb2 Qd2+ 26. Kb3 Qd5+ 27. Kb2 Qd2+ 28. Kb3']\n",
      "\n",
      "\n"
     ]
    }
   ],
   "source": [
    "cur.execute(\"select * from games order by game desc limit 8\")\n",
    "games = cur.fetchall()\n",
    "for game in games:\n",
    "    print(game)\n",
    "    print(\"\\n\")"
   ]
  },
  {
   "cell_type": "code",
   "execution_count": null,
   "metadata": {},
   "outputs": [],
   "source": []
  }
 ],
 "metadata": {
  "kernelspec": {
   "display_name": "Python 3",
   "language": "python",
   "name": "python3"
  },
  "language_info": {
   "codemirror_mode": {
    "name": "ipython",
    "version": 3
   },
   "file_extension": ".py",
   "mimetype": "text/x-python",
   "name": "python",
   "nbconvert_exporter": "python",
   "pygments_lexer": "ipython3",
   "version": "3.6.9"
  }
 },
 "nbformat": 4,
 "nbformat_minor": 4
}
